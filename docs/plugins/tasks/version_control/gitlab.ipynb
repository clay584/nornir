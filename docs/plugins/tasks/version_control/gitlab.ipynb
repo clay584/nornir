{
 "cells": [
  {
   "cell_type": "markdown",
   "metadata": {
    "ein.tags": "worksheet-0",
    "slideshow": {
     "slide_type": "-"
    }
   },
   "source": [
    "# Gitlab"
   ]
  },
  {
   "cell_type": "code",
   "execution_count": 1,
   "metadata": {
    "autoscroll": false,
    "ein.hycell": false,
    "ein.tags": "worksheet-0",
    "scrolled": false,
    "slideshow": {
     "slide_type": "-"
    }
   },
   "outputs": [
    {
     "name": "stdout",
     "output_type": "stream",
     "text": [
      "\n",
      "    Writes contents to a new file or update contents of an existing file in a\n",
      "    gitlab repository.\n",
      "\n",
      "    Example:\n",
      "\n",
      "        nornir.run(files.gitlab,\n",
      "                   action=\"create\",\n",
      "                   url=\"https://gitlab.localhost.com\",\n",
      "                   token=\"ABCD1234\",\n",
      "                   repository=\"test\",\n",
      "                   filename=\"config\",\n",
      "                   branch=\"master\")\n",
      "\n",
      "    Arguments:\n",
      "        dry_run: Whether to apply changes or not\n",
      "        url: Gitlab instance URL\n",
      "        token: Personal access token\n",
      "        repository: destination repository\n",
      "        filename: destination file name\n",
      "        content: content to write\n",
      "        action: ``create``, ``update``\n",
      "        update: Update the file if it already exists,\n",
      "                when create action is used.\n",
      "        branch: destination branch\n",
      "\n",
      "    Returns:\n",
      "        Result object with the following attributes set:\n",
      "            * changed (``bool``):\n",
      "            * diff (``str``): unified diff\n",
      "\n",
      "    \n"
     ]
    }
   ],
   "source": [
    "from nornir.plugins.tasks.version_control import gitlab\n",
    "print(gitlab.__doc__)"
   ]
  },
  {
   "cell_type": "markdown",
   "metadata": {
    "ein.tags": "worksheet-0",
    "slideshow": {
     "slide_type": "-"
    }
   },
   "source": [
    "## Example 1 : create a file in a git repository on a gitlab server\n",
    "\n",
    "In this example we will create a new file in a git repository on a gitlab server.\n",
    "\n",
    "The contents that we will write to the file is a arbitary string, in a real world scenario this could be the running configuration of a device that we fetched using napalm or other method.\n",
    "\n",
    "First let's import the necessary methods & tasks, then we will create a variable called `content` which is an arbitary string."
   ]
  },
  {
   "cell_type": "code",
   "execution_count": 4,
   "metadata": {
    "autoscroll": false,
    "ein.hycell": false,
    "ein.tags": "worksheet-0",
    "scrolled": true,
    "slideshow": {
     "slide_type": "-"
    }
   },
   "outputs": [],
   "source": [
    "from nornir import InitNornir\n",
    "from nornir.plugins.tasks.version_control import gitlab\n",
    "from nornir.plugins.tasks.commands import remote_command\n",
    "from nornir.plugins.functions.text import print_result\n",
    "\n",
    "inventory = {\n",
    "    \"plugin\": \"nornir.plugins.inventory.simple.SimpleInventory\",\n",
    "    \"options\": {\n",
    "            \"host_file\": \"gitlab_data/inventory/hosts.yaml\"\n",
    "    }\n",
    "}\n",
    "\n",
    "n = InitNornir(inventory=inventory)\n",
    "\n",
    "content = \"\"\"127.0.0.1\\t\\tlocalhost\n",
    "255.255.255.255\\tbroadcasthost\n",
    "::1\\t\\tlocalhost\n",
    "\"\"\""
   ]
  },
  {
   "cell_type": "markdown",
   "metadata": {
    "ein.tags": "worksheet-0",
    "slideshow": {
     "slide_type": "-"
    }
   },
   "source": [
    "And create a new file called `hosts` in the repository `test` on the `master` branch."
   ]
  },
  {
   "cell_type": "code",
   "execution_count": 5,
   "metadata": {
    "autoscroll": false,
    "ein.hycell": false,
    "ein.tags": "worksheet-0",
    "nbsphinx": "hidden",
    "slideshow": {
     "slide_type": "-"
    }
   },
   "outputs": [],
   "source": [
    "import requests_mock\n",
    "from functools import wraps\n",
    "\n",
    "def wrap_gitlab(f):\n",
    "    @wraps(f)\n",
    "    def wrapper(*args, **kwargs):\n",
    "        with requests_mock.Mocker() as m:\n",
    "            m.get(url=f\"{kwargs['url']}/api/v4/projects?search={kwargs['repository']}\", status_code=200, json=[{\"name\":\"test\",\"id\":1}])\n",
    "            m.post(url=f\"{kwargs['url']}/api/v4/projects/1/repository/files/{kwargs['filename']}\", status_code=201)\n",
    "            m.get(url=f\"{kwargs['url']}/api/v4/projects/1/repository/files/{kwargs['filename']}?ref={kwargs['branch']}\", status_code=200, json={\"content\":\"MTI3LjAuMC4xCQlsb2NhbGhvc3QKMjU1LjI1NS4yNTUuMjU1CWJyb2FkY2FzdGhvc3QKOjoxCQls\\nb2NhbGhvc3QK\\n\"})\n",
    "            m.put(url=f\"{kwargs['url']}/api/v4/projects/1/repository/files/{kwargs['filename']}\", status_code=200)\n",
    "            return f(*args, **kwargs)\n",
    "    return wrapper\n",
    "\n",
    "gitlab = wrap_gitlab(gitlab)"
   ]
  },
  {
   "cell_type": "code",
   "execution_count": 6,
   "metadata": {
    "autoscroll": false,
    "ein.hycell": false,
    "ein.tags": "worksheet-0",
    "slideshow": {
     "slide_type": "-"
    }
   },
   "outputs": [],
   "source": [
    "result = n.run(\n",
    "    gitlab,\n",
    "    action=\"create\",\n",
    "    url=\"http://localhost:8080\",\n",
    "    token = \"SuperSecretToken\",\n",
    "    repository=\"test\",\n",
    "    branch=\"master\",\n",
    "    filename=\"hosts\",\n",
    "    #content=results[\"dev5.no_group\"][0]\n",
    "    content=content,\n",
    "    commit_message=\"Nornir is AWESOME!\"\n",
    ")"
   ]
  },
  {
   "cell_type": "markdown",
   "metadata": {
    "ein.tags": "worksheet-0",
    "slideshow": {
     "slide_type": "-"
    }
   },
   "source": [
    "The result of the task shows us a diff of the created `hosts` file and the content we provided."
   ]
  },
  {
   "cell_type": "code",
   "execution_count": 7,
   "metadata": {
    "autoscroll": false,
    "ein.hycell": false,
    "ein.tags": "worksheet-0",
    "slideshow": {
     "slide_type": "-"
    }
   },
   "outputs": [
    {
     "name": "stdout",
     "output_type": "stream",
     "text": [
      "\u001b[1m\u001b[36mgitlab**************************************************************************\u001b[0m\n",
      "\u001b[0m\u001b[1m\u001b[34m* alpine ** changed : True *****************************************************\u001b[0m\n",
      "\u001b[0m\u001b[1m\u001b[33mvvvv gitlab ** changed : True vvvvvvvvvvvvvvvvvvvvvvvvvvvvvvvvvvvvvvvvvvvvvvvvvv INFO\u001b[0m\n",
      "\u001b[0m--- \n",
      "\n",
      "+++ hosts\n",
      "\n",
      "@@ -0,0 +1,3 @@\n",
      "\n",
      "+127.0.0.1\t\tlocalhost\n",
      "+255.255.255.255\tbroadcasthost\n",
      "+::1\t\tlocalhost\u001b[0m\n",
      "\u001b[0m\u001b[1m\u001b[33m^^^^ END gitlab ^^^^^^^^^^^^^^^^^^^^^^^^^^^^^^^^^^^^^^^^^^^^^^^^^^^^^^^^^^^^^^^^\u001b[0m\n",
      "\u001b[0m"
     ]
    }
   ],
   "source": [
    "print_result(result)"
   ]
  },
  {
   "cell_type": "markdown",
   "metadata": {
    "ein.tags": "worksheet-0",
    "slideshow": {
     "slide_type": "-"
    }
   },
   "source": [
    "## Example 2 : update an existing file in a git repository on a gitlab server"
   ]
  },
  {
   "cell_type": "markdown",
   "metadata": {
    "ein.tags": "worksheet-0",
    "slideshow": {
     "slide_type": "-"
    }
   },
   "source": [
    "In this example we will update the contents of the hosts file that we created in the previous step. The new contents could come again from a remote host or device, but in this case we will use an arbitary value for the new contents of the file."
   ]
  },
  {
   "cell_type": "code",
   "execution_count": 8,
   "metadata": {
    "autoscroll": false,
    "ein.hycell": false,
    "ein.tags": "worksheet-0",
    "slideshow": {
     "slide_type": "-"
    }
   },
   "outputs": [],
   "source": [
    "result = n.run(\n",
    "    gitlab,\n",
    "    action=\"update\",\n",
    "    url=\"http://localhost:8080\",\n",
    "    token=\"SuperSecretToken\",\n",
    "    repository=\"test\",\n",
    "    branch=\"master\",\n",
    "    filename=\"hosts\",\n",
    "    content=f\"{content}8.8.8.8\\t\\tgoogledns\",\n",
    "    commit_message=\"Added new line to hosts file\"\n",
    ")"
   ]
  },
  {
   "cell_type": "markdown",
   "metadata": {
    "ein.tags": "worksheet-0",
    "slideshow": {
     "slide_type": "-"
    }
   },
   "source": [
    "The result of the taks should show us a diff of the changes that we made."
   ]
  },
  {
   "cell_type": "code",
   "execution_count": 9,
   "metadata": {
    "autoscroll": false,
    "ein.hycell": false,
    "ein.tags": "worksheet-0",
    "slideshow": {
     "slide_type": "-"
    }
   },
   "outputs": [
    {
     "name": "stdout",
     "output_type": "stream",
     "text": [
      "\u001b[1m\u001b[36mgitlab**************************************************************************\u001b[0m\n",
      "\u001b[0m\u001b[1m\u001b[34m* alpine ** changed : True *****************************************************\u001b[0m\n",
      "\u001b[0m\u001b[1m\u001b[33mvvvv gitlab ** changed : True vvvvvvvvvvvvvvvvvvvvvvvvvvvvvvvvvvvvvvvvvvvvvvvvvv INFO\u001b[0m\n",
      "\u001b[0m--- hosts\n",
      "\n",
      "+++ hosts\n",
      "\n",
      "@@ -1,3 +1,4 @@\n",
      "\n",
      " 127.0.0.1\t\tlocalhost\n",
      " 255.255.255.255\tbroadcasthost\n",
      " ::1\t\tlocalhost\n",
      "+8.8.8.8\t\tgoogledns\u001b[0m\n",
      "\u001b[0m\u001b[1m\u001b[33m^^^^ END gitlab ^^^^^^^^^^^^^^^^^^^^^^^^^^^^^^^^^^^^^^^^^^^^^^^^^^^^^^^^^^^^^^^^\u001b[0m\n",
      "\u001b[0m"
     ]
    }
   ],
   "source": [
    "print_result(result)"
   ]
  },
  {
   "cell_type": "code",
   "execution_count": null,
   "metadata": {
    "autoscroll": false,
    "ein.hycell": false,
    "ein.tags": "worksheet-0",
    "slideshow": {
     "slide_type": "-"
    }
   },
   "outputs": [],
   "source": []
  }
 ],
 "metadata": {
  "kernelspec": {
   "display_name": "Python 3",
   "language": "python",
   "name": "python3"
  },
  "language_info": {
   "codemirror_mode": {
    "name": "ipython",
    "version": 3
   },
   "file_extension": ".py",
   "mimetype": "text/x-python",
   "name": "python",
   "nbconvert_exporter": "python",
   "pygments_lexer": "ipython3",
   "version": "3.7.2"
  },
  "name": "gitlab.ipynb"
 },
 "nbformat": 4,
 "nbformat_minor": 2
}
